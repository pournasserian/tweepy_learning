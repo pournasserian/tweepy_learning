{
 "cells": [
  {
   "cell_type": "markdown",
   "metadata": {},
   "source": [
    "# tweepy quick notebook"
   ]
  },
  {
   "cell_type": "code",
   "execution_count": 18,
   "metadata": {
    "collapsed": true
   },
   "outputs": [],
   "source": [
    "# install using: pip install tweepy\n",
    "import tweepy \n",
    "import json"
   ]
  },
  {
   "cell_type": "markdown",
   "metadata": {},
   "source": [
    "### Basic listener"
   ]
  },
  {
   "cell_type": "code",
   "execution_count": 29,
   "metadata": {
    "collapsed": false
   },
   "outputs": [],
   "source": [
    "#This is a basic listener that just prints received tweets to stdout.\n",
    "class StdOutListener(tweepy.StreamListener):\n",
    "\n",
    "    def on_data(self, data):\n",
    "        tweet = json.loads(data)\n",
    "\n",
    "        print(tweet['text'])\n",
    "        \n",
    "        return True\n",
    "\n",
    "    def on_error(self, status):\n",
    "        print(status)"
   ]
  },
  {
   "cell_type": "markdown",
   "metadata": {},
   "source": [
    "### Authentication"
   ]
  },
  {
   "cell_type": "code",
   "execution_count": 3,
   "metadata": {
    "collapsed": true
   },
   "outputs": [],
   "source": [
    "# Step 1 - Authenticate\n",
    "# copy & paste these values from: https://apps.twitter.com/\n",
    "consumer_key= 'DjZQINSdfCpZ54nxlG6W5g'\n",
    "consumer_secret= 'bvMPkOJo65KCXKqNsmCYEXYiGCvXqh1NPI7iMNqR9Q'\n",
    "\n",
    "access_token='278647040-sgX4F2mbN4xYcfWVmJk6qGaXg8uu7PlfsokyU231'\n",
    "access_token_secret='Q3EIeuiG0PAoXzSaK6Eyd4gDMD8qTef40yNeddAriw'\n",
    "\n",
    "auth = tweepy.OAuthHandler(consumer_key, consumer_secret)\n",
    "auth.set_access_token(access_token, access_token_secret)\n",
    "\n",
    "api = tweepy.API(auth)"
   ]
  },
  {
   "cell_type": "markdown",
   "metadata": {},
   "source": [
    "### Reading home timeline tweets"
   ]
  },
  {
   "cell_type": "code",
   "execution_count": 4,
   "metadata": {
    "collapsed": false
   },
   "outputs": [
    {
     "name": "stdout",
     "output_type": "stream",
     "text": [
      "RT @windowsblog: New Windows 10 devices unveiled at #CES2017 unlock the creator in each of us https://t.co/UXyyMEVo5I https://t.co/bJ40u0yM…\n",
      "Pictures of the week: Jan. 6, 2017 https://t.co/TnHIpsgRIP\n",
      "اونجایی برای @CES جذاب میشه که وقت نمی کنی 10 درصد اتفاقاتش رو هم مرور کنی. فاصله و سرعت اینجا راحت محاسبه میشه\n",
      "@radiobudio \n",
      "@BarsamITNews\n",
      "Police taking statements on singer George Michael's death https://t.co/cdPP625VAC\n",
      "Table pagination with Search bar in Angular2 by ONasri 12202787 https://t.co/t5LkEMm7L1\n",
      "Create a users management interface using Angular2 and DotnetCore by ONasri 12202787 https://t.co/rJ0v9crwcJ\n",
      "Here’s how to get noticed on #LinkedIn! https://t.co/r217kX5vr4 https://t.co/smRfEzfTC1\n",
      "“We’re on the path; we’re doing a lot of things right these days.” #StartupCanAwards https://t.co/tdq45QKDPm… https://t.co/9DiYlUlNsM\n",
      "This Week on Windows: We share some amazing movie &amp; TV deals, and  show you how to talk to Cortana. #Windows10 https://t.co/ehfVWxOdEY\n",
      "The Madden 17 Big Game Tournament starts TOMORROW. Win it all &amp; you could go to Super Bowl LI in Houston! Details:… https://t.co/YH104cdnEe\n",
      "Learning C# (Day 11):  Events in C# (A Practical Approach) – Akhil Mittal by  Akhil Mittal  https://t.co/FFmADPRG8w\n",
      "Find and land a job you deserve with our COMPLETE SET of job search tools! https://t.co/MEB7OWtD0G\n",
      "Nairobi! Habari ya jioni! I'm headed your way. Register for NexTech Africa now! https://t.co/uCl9KCNPoG #kenya\n",
      "Thinking about becoming an #entrepreneur? Make sure you take a look at this. https://t.co/S4poSq31ET #careeradvice https://t.co/oKzgYlOnYu\n",
      ".@bobbijopaidel on #socent sustainability: “We’re finding a way to sustain ourselves” #StartupPodcast… https://t.co/HkYwDwUfTE\n",
      "RT @Schwarzenegger: Please study this quote from Lincoln's inaugural, @realDonaldTrump. It inspired me every day I was Governor, and I hope…\n",
      "We second that. #CES2017 https://t.co/7rjAQoHbYV\n"
     ]
    }
   ],
   "source": [
    "public_tweets = api.home_timeline()\n",
    "\n",
    "for tweet in public_tweets:\n",
    "    print(tweet.text)"
   ]
  },
  {
   "cell_type": "markdown",
   "metadata": {},
   "source": [
    "### Get the User object for twitter..."
   ]
  },
  {
   "cell_type": "code",
   "execution_count": 5,
   "metadata": {
    "collapsed": false
   },
   "outputs": [
    {
     "name": "stdout",
     "output_type": "stream",
     "text": [
      "Twitter\n",
      "58186638\n"
     ]
    }
   ],
   "source": [
    "# Get the User object for twitter...\n",
    "user = api.get_user('twitter')\n",
    "print(user.screen_name)\n",
    "print(user.followers_count)"
   ]
  },
  {
   "cell_type": "markdown",
   "metadata": {},
   "source": [
    "### Get friends of the User"
   ]
  },
  {
   "cell_type": "code",
   "execution_count": 6,
   "metadata": {
    "collapsed": false
   },
   "outputs": [
    {
     "name": "stdout",
     "output_type": "stream",
     "text": [
      "UKMoments\n",
      "CanadaMoments\n",
      "momentsbrasil\n",
      "MomentsAU\n",
      "MomentsES\n",
      "momentsjapan\n",
      "kayvz\n",
      "TwitterU\n",
      "jointheflockEU\n",
      "verified\n",
      "TwitterStripes\n",
      "periscopetv\n",
      "TwitterParents\n",
      "btaylor\n",
      "IamDebraLee\n",
      "Marthalanefox\n",
      "hughjohnston\n",
      "TwitterPolitica\n",
      "TwitterGamingES\n",
      "TwitterDetroit\n"
     ]
    }
   ],
   "source": [
    "for friend in user.friends():\n",
    "   print(friend.screen_name)"
   ]
  },
  {
   "cell_type": "markdown",
   "metadata": {},
   "source": [
    "### Create live stream"
   ]
  },
  {
   "cell_type": "code",
   "execution_count": 7,
   "metadata": {
    "collapsed": true
   },
   "outputs": [],
   "source": [
    "#override tweepy.StreamListener to add logic to on_status\n",
    "class MyStreamListener(tweepy.StreamListener):\n",
    "\n",
    "    def on_error(self, status_code):\n",
    "        if status_code == 420:\n",
    "            #returning False in on_data disconnects the stream\n",
    "            return False"
   ]
  },
  {
   "cell_type": "code",
   "execution_count": 30,
   "metadata": {
    "collapsed": false
   },
   "outputs": [],
   "source": [
    "myStreamListener = StdOutListener()\n",
    "myStream = tweepy.Stream(auth = api.auth, listener=myStreamListener)"
   ]
  },
  {
   "cell_type": "code",
   "execution_count": null,
   "metadata": {
    "collapsed": false
   },
   "outputs": [
    {
     "name": "stdout",
     "output_type": "stream",
     "text": [
      "گفتمش زندان نباشد جای دوست\n",
      "گفت: شاید این مکان دلخواه اوست\n",
      "گفتمش از پرده ی آخر بگو\n",
      "گفت: عشق است و ...  #free_arash_taheri_ali\n",
      "دیگه وقتی پیام و اینا میاد برامون، تنها چیزی که میلرزه همون خود گوشیه، دلی نمونده که بخواد بلرزه.\n",
      "RT @parizadvarghayi: #free_arsh_taheri_ali گر نگهدار من آنست كه من ميدانم ... شيشه را در بغل سنگ نگه ميدارد!\n",
      "RT @Dsavood: کلا ببخشید که فقط شما خوبین ما بدیم\n",
      "٨ سيخ جيگر ٨ سيخ قلوه ٨ سيخ دل ٦ سيخ خوش گوشت و دو تا دوغ ٨٣ تومن 😭😭😭\n",
      "RT @Raharahayi: #free_arash_taheri_ali\n",
      "دو جور ظلم داریم \n",
      "ظلم اولیه و ظلم ثانویه\n",
      "ظلم اولیه جهالت نسبت به خداوند و اهداف اوست https://t.co/h3…\n",
      "RT @Mojgankeihan: و آگاه خواهم کرد\n",
      "\n",
      "#free_arash_taheri_ali https://t.co/zWQM8AgHFx\n",
      "RT @Nazi7477: اینطرفه تر آنکه هرکه حق را بشناخت \n",
      "مومن شد و خلق کافرش میخوانند \n",
      "#free_arash_taheri_ali https://t.co/RYXM8Zn9uN\n",
      "عاواتارمو میخوام عوض کنم\n",
      "هرکیم خواست میتونه عانفالو و حتی بلاک کنه 😒\n",
      "چون كه \"فكر كنم يعنى حمل كننده\" خيلى فارسى و بى كلاسى و دَهاتى هستش https://t.co/RwjpGcbsOP\n",
      "RT @mahtabghorbany: به امید آزادی همه ی زندانی علی سیاسی، به امید پایان این حکومت غاصب\n",
      "#All4Alii\n",
      "Taheri_Movement(channel):\n",
      "آتش عشق تو خاک من همه بر باد داد\n",
      "تا به چشم خویشتن دیدم غبار خویش را\n",
      "#free_arash_taheri_ali..\n",
      "RT @Nazi7477: دوش بر یاد حریفان به خرابات شدم.\n",
      "پس؛\n",
      "بگشتم که بپرسم سبب درد فراق\n",
      "خم می دیدم و\n",
      "خون در دل و\n",
      "سر در گل بود.\n",
      "#free_arash_taheri_ali\n",
      "RT @hodasolbanoo: من با تو چه خواهم کرد؟\n",
      "#free_arash_taheri_ali https://t.co/gQo5VvPjaP\n",
      "RT @hudaalmosawy191: •┈┈●••﴿✮✮﴾••●┈┈• \n",
      "ﺍﻟﺤﺠﻴﻪ ﺗﮕــﻮﻝ؛😔✋\n",
      "ﺍﺭﺑــﻊ ﺯﻟﻢ #ﺭﺑــﻴﺖ\n",
      "ﺑﺲ ﻣﻮ #ﺇﻟــﻴﻪ\n",
      "ﻣﻦ ﺷﺎﻓﻮ  #ﺍﻟﻨــﺴﻮﺍﻥ💥\n",
      "ﮔﻠــــﺒﻮﻭﻭ ﻋﻠﻴﻪ😔💔\n",
      "\n",
      "توجع و… \n",
      "RT @parigh_735: صلح و همدلی به زودی رخ خواهد داد\n",
      "#free_arash_taheri_ali\n",
      "RT @amiromach: فوت کرد!\n",
      "پسرش الان زنگ زد گفت:مدیرای بیمارستان بعد چاپ گزارش خیلی باهامون برخورد کردن و گفتن فعلا باید وایسین تو نو… \n",
      "آدمى به فرد مى ميرد و تنها به جمع است كه زنده مي ماند \n",
      "#All4Ali\n",
      "در فرودگاه فورت لادردیل فلوریدا تیراندازی در قسمت گرفتن چمدان ها بوده یک تیرانداز دستگیر شده ۹ نفر مجروح شدن\n",
      "RT @asiy1358: شهر را با نامت آشنا میکنیم...\n",
      "معرفی #محمدعلی_طاهری و پخش سی دی در #کرج.\n",
      "  \n",
      "#free_arash_taheri_ali https://t.co/e4axP5q9xL\n",
      "در مسير كمال از سالك پرسيده مي شود به چه آگاهي رسيده.... و به چه دركي نايل گشته است\n",
      "⁦ #free_arash_taheri_ali ⁩\n",
      "همه ي توانايي هاي افراد از فيض الهي و در حلقه ي وحدت شعور كيهاني به عنوان امانت به فرد عطا گرديده است\n",
      "⁦ #free_arash_taheri_ali ⁩\n",
      "✌\n",
      "بارها این دل به جرم عاشقی\n",
      "زیر سنگینی بار غم شکست\n",
      "من ترا آسان نیاوردم بدست\n",
      "#free_arash_taheri_ali\n",
      "**محمد علی طاهری استاد عشق و وحدت است. \n",
      "چیزی که در ایران به آن نیاز است!!! \n",
      "#free_arash_taheri_ali\n",
      "من حيف كه يه نفرم. اگه٤٠-٣٠ نفر بودم ، حتما يه حمله به دفتر #منوتو تي وي تدارك ميديدم\n",
      "@Jeddaaaal\n",
      ":)\n",
      "با این اکانت لایک زدی ترسیدم. گفتم حالا بیا و درستش کن! علیزاده لایک زده!\n",
      "RT @Taheri_Movement: من مرغ طوفانم، نیاندیشم زِ طوفان \n",
      "موجم، نه آن موجى كه از دریا گریزد\n",
      "\n",
      "#free_arash_taheri_ali https://t.co/GVnMvrnrzb\n",
      "RT @Hojat61246172: گردباد.\n",
      "يسبح لله ما فى السموات و ما فى الارض\n",
      "يعنى همه چى در اين هوشمندى شناورند \n",
      "غوطه ورند.\n",
      "صوتى ٢،ج٤\n",
      "#free_arash_taheri…\n",
      "RT @farhad_majnoon: دانی که چرا بر دهنم راز آمد\n",
      "مرغ دلم از درون به پرواز آمد؟\n",
      "از من نه عجب که هاون رویین‌تن\n",
      "از یار جفا دید و به آواز آمد\n",
      "#f…\n",
      "حکایت فردای من ... 😂😂\n",
      "هر چند که امتحانم اپن بوکه 😃 https://t.co/15aHxFpmOL\n",
      "RT @freetaheri3: اشتیاق تنها عامل محرک برای رسیدن به کمال است .\n",
      "#Free_arash_taheri_ali\n",
      "RT @Nazi7477: اینبار آرشها  جان در کمان می گذارند.\n",
      "تا درب های زندان عشق خود را بگشایند...ظلم است یا عشق؟\n",
      "#free_arash_taheri_ali https://t.c…\n",
      "RT @kahelnamazzzz: هروقت خواستيد به تعداد فالوورتون بنازيد، به خودتون خاطرنشان سازيد كه وحيدخزايى ٥٦٣هزارتا فالوور داره تو اينستا\n",
      "RT @Rezaalexi1: ما رفتنی نیستیم\n",
      "\n",
      "#free_arash_taheri_ali https://t.co/a0678eDfQu\n",
      "پسرم کجایی دقیقا کجایی کجایی تو اصلا دقیقا کجایی \n",
      "\n",
      "#گاز_گیت https://t.co/NYJSiJOlSy\n",
      "بابای من از ۱۶ سالگی رفت دانشسرا و کار کرد  وقتی می‌دید پسرش با ۳۵ سال سن هنوز  دنبال کار می‌دوه درد می‌کشید لعنت به این حکومت جمهوری اسلامی\n",
      "RT @vahid5059: #free_arash_taheri_ali\n",
      "اگر هر کدام از مادر بند بودیم چه توقعی از دیگران داشتیم جز همراهی و همدلی\n",
      "RT @naazdooneh: بزرگش نکنیم الکی این حرکتهای هشتگی رو. ما داریم کنش اجتماعی رو تقلیل می دیم و با این جملات سر خودمون رو شیره می مال… \n",
      "RT @yazeinab24: ای مردم منتقم خون حسین آمد\n",
      "برخیزید و ندایش را لبیک گویید\n",
      "\n",
      "لبیک یا #احمد_الحسن https://t.co/XiQNJ6UND1\n",
      "RT @mojojahani: هیهات اگر یار بخواهی و نباااااشم\n",
      "یاران جان همت همت همت\n",
      "@taheri_tweet\n",
      "@mhamzeali @mahd_iye @mah_sadeghi برادر فرض کن توی آمریکا یک زندان باشه که اونایی رو که مخالف روند حکومت کشورشون هس… https://t.co/JvrlRxyGUX\n",
      "RT @Quentin0098: کتاب, موزیک, فیلم\n",
      "هر روز با یک کتاب, یک موزیک و یک فیلم \n",
      "https://t.co/rpg4swP2fU\n",
      "من همچین خبری پیدا نکردم تو این سایته،اگه هست بدید ببینیم چی نوشته اگرم نیست که اصلا بامزه نبود https://t.co/DGcnTGvn5n\n",
      "RT @Parvane_Etemad: او یک معلم است!\n",
      "در کدام جامعه معلم را به بند میکشند؟\n",
      "#free_arash_taheri_ali https://t.co/UkerA4Kj7X\n",
      "RT @darya1394: گر فراق بنده از بد بندگیست، چون تو با بد بدکنی پس فرق چیست؟؟؟  #free_arash_taheri_ali https://t.co/DgE5qiW7c5\n",
      "استاد عشق ،آرش آزاده  و على حق طلب را آزاد كنيد\n",
      "#free_arash_taheri_ali\n",
      "بر دست من نه جام جان ای دستگیر عاشقان\n",
      "دور از لب بیگانگان پیش آر پنهان ساقیا\n",
      "#free_arash_taheri_ali\n",
      "RT @s1tXPajasJcIlkh: Taheri_Movement(channel):\n",
      "آتش عشق تو خاک من همه بر باد داد\n",
      "تا به چشم خویشتن دیدم غبار خویش را\n",
      "#free_arash_taheri_ali..\n",
      "RT @MotahareParsi: ز تمام بودنی ها, \"تو\" همین از آن من باش\n",
      "\n",
      "که به غیر با \"تو\" بودن، دلم آرزو ندارد!\n",
      "#All4Ali\n",
      "RT @FarzaneJalvand: هر لحظه و همه جا \n",
      "کنار توست\n",
      "نا امیدی چرا ؟\n",
      "به رحمت او شک نکن \n",
      "عاشقانه صدایش بزن \n",
      "میرسد به فریادمان \n",
      "#free_arash_taheri_…\n",
      "بی همگان بسر شود بی تو بسر نشود\n",
      "\n",
      "#free_arash_taheri_ali https://t.co/L6H0LSJbUh\n",
      "RT @euronews_pe: 🎥 تیراندازی در فرودگاه #فلوریدا دستکم یک کشته و تعدادی مجروح برجا گذاشت https://t.co/GlmY6BwXmf\n",
      "من طلبه و ارزشی رو یه ضرب بلاک میکنم\n",
      "اصلا کاری به بلاک لیست ندارم\n",
      "RT @HemmatSadr: حالا اين گم شدن گاز دقيقاً كى تأثيرشو تو انرژى كشور ميذاره؟\n",
      "\n",
      "دعا كنيد تو تابستون كه هوا گرمه باشه.\n",
      "#گاز_گیت\n",
      "RT @farnazhalge2: ماشاگردان استاد #محمد_علی_طاهری فریادمیزنیم تاگوش جهانیان بشنود انسان های آزاده و بی گناه راآزادکنید\n",
      "#free_arash_taheri_a…\n",
      "RT @HosseinianU: نظریه سیستم عصبی ثانویه #محمدعلی_طاهری پاسخی ب چرایی پیوستگی حرکات انسان و عدم ایجاد این امکان در رباط ها… \n",
      "عرفان فرای دین است، در هر دین و مذهبی هستی باش ، عرفان کیفیت آنرا ارتقا میبخشد\n",
      "#free_arash_taheri_ali\n",
      "\n",
      "🎓🎓🎓🎓\n",
      "RT @Mahvash57: مردم کره دقیقا هر هفته و هر هفته\n",
      "جلو سفارت ژاپن جمع می شن و در تجمعی صلح آمیز به این ظلمی که بهشون رفته اعتراض می ک… \n",
      "بزرگترين حسرت دنيا هم مال اون وقتيه كه ميدوني با رفيقي كه كل بچگيتو باهاش گذروندي ديگه نميتوني مثه سابق رفاقت كني و كاريم از دستت بر نمياد !\n",
      "#free_arash_taheri_ali\n",
      "\"دوست، كسى است كه از ظلم و تجاوزگرى باز دارد و بر انجام خوبى و نيكى يارى كند.\"\n",
      "RT @FarzaneJalvand: خدایا \n",
      "آخر عاقبت کار های ما را \n",
      "ختم به خیر کن \n",
      "آرامش نصیب استادم و تمام عزیزان \n",
      "#free_arash_taheri_ali\n",
      "با کاندیدای اصلح ریاست جمهوری مورد حمایت من و اصلاح طلبا آشنا شید.\n",
      "سلام آقای عبدالحسن مقتدایی… https://t.co/eLh3wd02Wu\n",
      "راستی آزمایی فقط اونجاش\n",
      " که میدونی داره دروغ میگه و تو به خودت القا میکنی که راست میگه !\n",
      "حالا شما احتمالا تحت تاثیر سخنان فرست لیدی بوجی بوجی شدید، ولی من دارم فکر می‌کنم این حجم صافی مو غیر طبیعی نیست؟ https://t.co/5pUTlRVj5r\n",
      "کلاً زن در شأن شهر امام رضا نیست. #مخلص_کلام https://t.co/zssn5q1WJj\n",
      "RT @smokyhead: #All4Ali \n",
      "\n",
      "درین شب‌ها\n",
      "که گل از برگ و\n",
      "برگ از باد و\n",
      "ابر از خویش می ترسد،[...]\n",
      "چنین بیدار و دریا‌وار\n",
      "توئی تنها که می‌خوانی\n",
      "چون دل ز هوای دوست نتوان پرداخت🌺🌺🌺\n",
      "درمانش تحملست و سر پیش انداخت\n",
      "\n",
      "#free_arash_taheri_ali\n",
      "RT @BehnoudMasoud: نامه  ۳۷ ایرانی  دیگر به ترامپ. لازم هم نیست طرفین همدیگر را  خائن یابی بخوانند. ما مخالفیم. اما اختلاف طبیعی است.\n",
      "\n",
      "http…\n",
      "RT @Nazi7477: چنان از نا امیدی های هم امید میسازیم که از یک شمع باور مرده,صد خورشید می سازیم.\n",
      "#free_arash_taheri_ali https://t.co/wLXqujFq05\n",
      "RT @shokoofe1000: من بافرادرمانی درمان شده ام\n",
      "#free_arash_taheri_ali https://t.co/TujBJ1MEzG\n",
      "RT @8TAGFARID: این مهم نیست که زیبا باشی\n",
      "زیبایی در اینه که مهم باشی حتی برای یک نفر....\n",
      "RT @free_taheri: نظریه تبادل یونی عرفان حلقه ضمن حل مشکلات و بیماری های ناشی از عدم تبادل، برای فضا نوردان نیز مفید خواهد بود.… \n",
      "RT @YeganehKhodami: از کنسرت عبور کردن به مهمونی های خانوادگی رسیدن.منتظر باشین فردا بگن مهمونی خانوادگی در شان شهر امام رضا نیست! https://…\n",
      "RT @pepepedro43: ما صداى مظلوميت همه زندانيان در بند هستيم\n",
      "#free_arash_taheri_ali https://t.co/j5ebLVqRAU\n",
      "RT @hkia62: ای آقا توی ۳ ماه ۱۰ کیلو توییت پس بدون که خستگی سرم نمیشه تا گوش های تو وچشم هاتو را باز کنم\n",
      "باور کن\n",
      "#free_arash_taheri_ali\n"
     ]
    }
   ],
   "source": [
    "myStream.filter(track = [\"من\", 'تو','است','ما','یک','او','و','ی'], languages=[\"fa\"])"
   ]
  },
  {
   "cell_type": "code",
   "execution_count": 11,
   "metadata": {
    "collapsed": true
   },
   "outputs": [],
   "source": [
    "import json\n",
    "import pandas as pd\n",
    "import matplotlib.pyplot as plt\n"
   ]
  },
  {
   "cell_type": "code",
   "execution_count": null,
   "metadata": {
    "collapsed": true
   },
   "outputs": [],
   "source": []
  },
  {
   "cell_type": "code",
   "execution_count": null,
   "metadata": {
    "collapsed": true
   },
   "outputs": [],
   "source": []
  },
  {
   "cell_type": "code",
   "execution_count": null,
   "metadata": {
    "collapsed": false
   },
   "outputs": [],
   "source": [
    "\n"
   ]
  }
 ],
 "metadata": {
  "anaconda-cloud": {},
  "kernelspec": {
   "display_name": "Python [conda root]",
   "language": "python",
   "name": "conda-root-py"
  },
  "language_info": {
   "codemirror_mode": {
    "name": "ipython",
    "version": 3
   },
   "file_extension": ".py",
   "mimetype": "text/x-python",
   "name": "python",
   "nbconvert_exporter": "python",
   "pygments_lexer": "ipython3",
   "version": "3.5.2"
  }
 },
 "nbformat": 4,
 "nbformat_minor": 1
}
