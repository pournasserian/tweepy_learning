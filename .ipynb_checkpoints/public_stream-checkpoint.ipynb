{
 "cells": [
  {
   "cell_type": "markdown",
   "metadata": {},
   "source": [
    "# Reading Twitter's Public Stream\n",
    "### Extracting and saving raw data, title and hashtags"
   ]
  },
  {
   "cell_type": "code",
   "execution_count": 2,
   "metadata": {
    "collapsed": false
   },
   "outputs": [],
   "source": [
    "# install using: pip install tweepy\n",
    "import tweepy \n",
    "import json\n",
    "import time\n",
    "import codecs\n",
    " \n",
    "\n",
    "#This is a basic listener that just prints received tweets to stdout.\n",
    "class StdOutListener(tweepy.StreamListener):\n",
    "\n",
    "    def __init__(self, time_limit = 10):\n",
    "        \n",
    "        self.start_time = time.time()\n",
    "        self.limit = time_limit\n",
    "        self.rawData = []\n",
    "        self.hashtags = {}\n",
    "        self.texts = []\n",
    "        self.counter = 0\n",
    "                \n",
    "        super(StdOutListener, self).__init__()\n",
    "\n",
    "\n",
    "    def on_data(self, data):\n",
    "        \n",
    "        self.counter += 1\n",
    "        \n",
    "        if self.counter % 100 == 0:\n",
    "            print(self.counter)\n",
    "        \n",
    "        if (time.time() - self.start_time) < self.limit:\n",
    "\n",
    "            tweet = json.loads(data)\n",
    "            text = tweet['text']\n",
    "            hashtags = tweet['entities']['hashtags']\n",
    "            \n",
    "            self.rawData.append(tweet)\n",
    "            self.texts.append(text)\n",
    "            \n",
    "            for hashtag in hashtags:\n",
    "                hashtag_text = hashtag['text']\n",
    "                if not hashtag_text in self.hashtags:\n",
    "                    self.hashtags[hashtag_text] = 0\n",
    "                self.hashtags[hashtag_text] += 1\n",
    "            \n",
    "            return True\n",
    "        \n",
    "        else:\n",
    "            self.save_files()\n",
    "            return False\n",
    "\n",
    "    def on_error(self, status):\n",
    "        print(status)\n",
    "\n",
    "    \n",
    "    def save_files(self):\n",
    "        \n",
    "        self.rawFile = open('data/raw.json', 'w', encoding='utf8')\n",
    "        self.rawFile.write(json.dumps(self.rawData))\n",
    "        self.rawFile.close()\n",
    "        \n",
    "        self.textFile = open('data/text.json', 'w', encoding='utf8')\n",
    "        self.textFile.write(json.dumps(self.texts))\n",
    "        self.textFile.close()\n",
    "        \n",
    "        self.hashtagFile = open('data/hashtag.json', 'w', encoding='utf8')\n",
    "        self.hashtagFile.write(json.dumps(self.hashtags))\n",
    "        self.hashtagFile.close()\n",
    "        \n",
    "# Step 1 - Authenticate\n",
    "# copy & paste these values from: https://apps.twitter.com/\n",
    "consumer_key= 'KNqXZEmCJJEtIHyN6hTYWzmAv'\n",
    "consumer_secret= 'Hg0FtDHeOahSpOTjPIuiDLPRSFCZkr4PZwduSUTKmc6gC7OtWK'\n",
    "\n",
    "access_token='278647040-sBWFMwsnCDP6kG5UDSuIXvbuJoyQUdJBihiilWR1'\n",
    "access_token_secret='oPcpzqH4D5HhO5JEgowEv8eM9XWDD07gNOrssBLE37dHw'\n",
    "\n",
    "auth = tweepy.OAuthHandler(consumer_key, consumer_secret)\n",
    "auth.set_access_token(access_token, access_token_secret)\n",
    "\n",
    "listener = StdOutListener()\n",
    "\n",
    "api = tweepy.API(auth)     \n"
   ]
  },
  {
   "cell_type": "code",
   "execution_count": 7,
   "metadata": {
    "collapsed": false
   },
   "outputs": [
    {
     "name": "stdout",
     "output_type": "stream",
     "text": [
      "100\n",
      "200\n",
      "300\n"
     ]
    }
   ],
   "source": [
    "myStream = tweepy.Stream(auth = api.auth, listener = StdOutListener(600))\n",
    "myStream.filter(track = ['ی','ا','و','م','ب'], languages=[\"fa\"])"
   ]
  }
 ],
 "metadata": {
  "anaconda-cloud": {},
  "kernelspec": {
   "display_name": "Python [conda root]",
   "language": "python",
   "name": "conda-root-py"
  },
  "language_info": {
   "codemirror_mode": {
    "name": "ipython",
    "version": 3
   },
   "file_extension": ".py",
   "mimetype": "text/x-python",
   "name": "python",
   "nbconvert_exporter": "python",
   "pygments_lexer": "ipython3",
   "version": "3.5.2"
  }
 },
 "nbformat": 4,
 "nbformat_minor": 1
}
