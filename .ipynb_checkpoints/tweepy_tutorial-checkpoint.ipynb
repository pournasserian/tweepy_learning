{
 "cells": [
  {
   "cell_type": "markdown",
   "metadata": {},
   "source": [
    "# tweepy quick notebook"
   ]
  },
  {
   "cell_type": "code",
   "execution_count": 1,
   "metadata": {
    "collapsed": true
   },
   "outputs": [],
   "source": [
    "# install using: pip install tweepy\n",
    "import tweepy"
   ]
  },
  {
   "cell_type": "markdown",
   "metadata": {},
   "source": [
    "### Authentication"
   ]
  },
  {
   "cell_type": "code",
   "execution_count": 2,
   "metadata": {
    "collapsed": true
   },
   "outputs": [],
   "source": [
    "# Step 1 - Authenticate\n",
    "# copy & paste these values from: https://apps.twitter.com/\n",
    "consumer_key= 'DjZQINSdfCpZ54nxlG6W5g'\n",
    "consumer_secret= 'bvMPkOJo65KCXKqNsmCYEXYiGCvXqh1NPI7iMNqR9Q'\n",
    "\n",
    "access_token='278647040-sgX4F2mbN4xYcfWVmJk6qGaXg8uu7PlfsokyU231'\n",
    "access_token_secret='Q3EIeuiG0PAoXzSaK6Eyd4gDMD8qTef40yNeddAriw'\n",
    "\n",
    "auth = tweepy.OAuthHandler(consumer_key, consumer_secret)\n",
    "auth.set_access_token(access_token, access_token_secret)\n",
    "\n",
    "api = tweepy.API(auth)"
   ]
  },
  {
   "cell_type": "markdown",
   "metadata": {},
   "source": [
    "### Reading home timeline tweets"
   ]
  },
  {
   "cell_type": "code",
   "execution_count": 3,
   "metadata": {
    "collapsed": false
   },
   "outputs": [
    {
     "name": "stdout",
     "output_type": "stream",
     "text": [
      "RcppTOML 0.1.0 https://t.co/PEwDQ5cVW8 #rstats #DataScience\n",
      "Wpf application with real-time data in OxyPlot charts by Illya Reznykov https://t.co/nWnaALyMrm\n",
      "Starting the analysis of #McMaster tweets for a demo of analysis with #tyGraph\n",
      "@haacked also, \"hurry up!\"\n",
      "If they make a 2hr movie of my life, 1hr 50 mins of it will be me saying \"Come on, let's go. Let's go.\"\n",
      "\n",
      "#parenting #fb\n",
      "Here are some steps when creating a pitch-perfect #elevatorpitch to impress the hiring manager.… https://t.co/e7gJmnEWGN\n",
      "#WeekendReading: New Windows 10 devices at CES, Microsoft Connected Vehicle Platform https://t.co/X8LtvLMkQx https://t.co/WgH8ZDTB3h\n",
      "RT @miladsafarzadeh: یک اَپ دیگه‌م ریلیز شد. آخرین زلزله‌های #ایران و نواحی با جزئیات کامل مانند محل دقیق #زلزله روی نقشه، بزرگی و عمق.\n",
      "\n",
      "ht…\n",
      "#MSFTConnect Session On Demand: Store app data w/ Azure Data Lake Store, https://t.co/06xC55MxjG no limit, hyper-sc… https://t.co/FVDWYAQ7Zx\n",
      "RT @niloofarghadiri: اين بيچاره الان در مراسم خداحافظي اوباما با نيروهاي مسلح، تو مراسم غش كرد افتاد. \n",
      "وضعيت آمريكا https://t.co/4py43Dzi83\n",
      "Here are 5 #personalbranding techniques to try when working on your resume. https://t.co/ULgBmTJHds https://t.co/8Dmmd5PgHZ\n",
      "RT @arashmil: بچه‌های دیزاین‌وند که همکار راب‌جانوف، طراح لوگوی #اپل در ایران هستن، می‌خوان با کمک دوسداران این لوگو برای تولدش هدیه‌ای بفر…\n",
      "RT @cristilmethod: Let's go live to all of Mississippi right now https://t.co/rlgFTzHi5q\n",
      "RT @anjuan: If you're a Black person involved in open source software, then I highly recommend applying to attend! https://t.co/rMC5LtJE4u\n",
      "We are looking for speakers for Open DEVTEACH focusing on Open Source Web Innovations, Session abstracts by Jan 29t… https://t.co/HgC14EOW2Y\n",
      "Azure Backup protects against #ransomware\n",
      "https://t.co/SIUYzESLTD\n"
     ]
    }
   ],
   "source": [
    "public_tweets = api.home_timeline()\n",
    "\n",
    "for tweet in public_tweets:\n",
    "    print(tweet.text)"
   ]
  },
  {
   "cell_type": "markdown",
   "metadata": {},
   "source": [
    "### Get the User object for twitter..."
   ]
  },
  {
   "cell_type": "code",
   "execution_count": 4,
   "metadata": {
    "collapsed": false
   },
   "outputs": [
    {
     "name": "stdout",
     "output_type": "stream",
     "text": [
      "Twitter\n",
      "58171173\n"
     ]
    }
   ],
   "source": [
    "# Get the User object for twitter...\n",
    "user = api.get_user('twitter')\n",
    "print(user.screen_name)\n",
    "print(user.followers_count)"
   ]
  },
  {
   "cell_type": "markdown",
   "metadata": {},
   "source": [
    "### Get friends of the User"
   ]
  },
  {
   "cell_type": "code",
   "execution_count": 5,
   "metadata": {
    "collapsed": false
   },
   "outputs": [
    {
     "name": "stdout",
     "output_type": "stream",
     "text": [
      "UKMoments\n",
      "CanadaMoments\n",
      "momentsbrasil\n",
      "MomentsAU\n",
      "MomentsES\n",
      "momentsjapan\n",
      "kayvz\n",
      "TwitterU\n",
      "jointheflockEU\n",
      "verified\n",
      "TwitterStripes\n",
      "periscopetv\n",
      "TwitterParents\n",
      "btaylor\n",
      "IamDebraLee\n",
      "Marthalanefox\n",
      "hughjohnston\n",
      "TwitterPolitica\n",
      "TwitterGamingES\n",
      "TwitterDetroit\n"
     ]
    }
   ],
   "source": [
    "for friend in user.friends():\n",
    "   print(friend.screen_name)"
   ]
  },
  {
   "cell_type": "code",
   "execution_count": 6,
   "metadata": {
    "collapsed": true
   },
   "outputs": [],
   "source": [
    "#override tweepy.StreamListener to add logic to on_status\n",
    "class MyStreamListener(tweepy.StreamListener):\n",
    "\n",
    "    def on_error(self, status_code):\n",
    "        if status_code == 420:\n",
    "            #returning False in on_data disconnects the stream\n",
    "            return False"
   ]
  },
  {
   "cell_type": "code",
   "execution_count": 7,
   "metadata": {
    "collapsed": false
   },
   "outputs": [],
   "source": [
    "myStreamListener = MyStreamListener()\n",
    "myStream = tweepy.Stream(auth = api.auth, listener=myStreamListener)"
   ]
  },
  {
   "cell_type": "code",
   "execution_count": null,
   "metadata": {
    "collapsed": false
   },
   "outputs": [],
   "source": [
    "myStream.filter(track=['python'])\n"
   ]
  }
 ],
 "metadata": {
  "anaconda-cloud": {},
  "kernelspec": {
   "display_name": "Python [conda root]",
   "language": "python",
   "name": "conda-root-py"
  },
  "language_info": {
   "codemirror_mode": {
    "name": "ipython",
    "version": 3
   },
   "file_extension": ".py",
   "mimetype": "text/x-python",
   "name": "python",
   "nbconvert_exporter": "python",
   "pygments_lexer": "ipython3",
   "version": "3.5.2"
  }
 },
 "nbformat": 4,
 "nbformat_minor": 1
}
